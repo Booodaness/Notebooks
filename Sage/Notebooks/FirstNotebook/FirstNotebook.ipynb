{
 "cells": [
  {
   "cell_type": "code",
   "execution_count": 1,
   "metadata": {},
   "outputs": [],
   "source": [
    "from IPython.display import display, Math, Latex, Image\n",
    "from IPython.core.display import HTML"
   ]
  },
  {
   "cell_type": "markdown",
   "metadata": {},
   "source": [
    "# My $1^\\text{st}$ SageMath Notebook!!!\n",
    "\n",
    "<blockquote>This is a blockquote </blockquote> <br>\n",
    "\n",
    "And this is a code section: <br>\n",
    "\n",
    "```python\n",
    "    for i in range(10):\n",
    "        print(i)\n",
    "``` \n",
    "<br>\n",
    "\n",
    "This is an example of line break <br> hiccup <br> <br>\n",
    "\n",
    "And these are <b>bold</b>, <i>italic</i> and <u>underlined</u> <strike>add zis</strike> <br> <br>\n",
    "\n",
    "Yay, a horizontal line <br> <br> <hr> <br>\n",
    "\n",
    "An ordered list \n",
    "<ol>\n",
    "    <li>Haha</li>\n",
    "    <li>Hahaha</li> </ol> <br>\n",
    "\n",
    "And an unordered list too\n",
    "<ul>\n",
    "    <li>Mwahaha</li>\n",
    "    <li>Mwahahaha</li> </ul> <br>\n",
    "    \n",
    "[An inline-style link](https://www.datacamp.com/community/tutorials/markdown-in-jupyter-notebook) <br> <br>\n",
    "\n",
    "[An inline-style link with title](https://github.com/adam-p/markdown-here/wiki/Markdown-Cheatsheet \"Github cheatsheet\") <br> <br>\n",
    "\n",
    "[Internal link, ta-da](#My-$1^\\text{st}$-SageMath-Notebook!!!) <br> <br>\n",
    "\n",
    "Speaking of links, howdy images and videos? <br> <br>\n",
    "\n",
    "![Black hole](https://upload.wikimedia.org/wikipedia/commons/thumb/4/4f/Black_hole_-_Messier_87_crop_max_res.jpg/260px-Black_hole_-_Messier_87_crop_max_res.jpg) <br> <br>\n",
    "\n",
    "<a href=\"http://www.youtube.com/watch?feature=player_embedded&v=aVs-cV9Ftv0\n",
    "\" target=\"_blank\"><img src=\"http://img.youtube.com/vi/aVs-cV9Ftv0/0.jpg\" \n",
    "alt=\"IMAGE ALT TEXT HERE\" width=\"240\" height=\"180\" border=\"10\" /></a> <br> <br>\n",
    "\n",
    "Last <i>and</i> the least, creepy tables: <br> <br>\n",
    "\n",
    "Markdown | Less | Pretty\n",
    "--- | --- | ---\n",
    "*Still* | `renders` | **nicely**\n",
    "1 | 2 | 3\n",
    "\n",
    "<br> <br>\n",
    "\n",
    "Now let's do some naughty maths:"
   ]
  },
  {
   "cell_type": "code",
   "execution_count": null,
   "metadata": {
    "scrolled": true
   },
   "outputs": [],
   "source": [
    "x,a,b,c,d = var('x,a,b,c,d')\n",
    "ans1 = solve([a*x^3+b*x^2+c*x+d == 0],x)\n",
    "display(Math(r'\\text{This is the solution of the cubic equation, } ax^3+bx^2+cx+d=0 \\text{ in x,}'))\n",
    "display(Math(latex(ans1)))"
   ]
  },
  {
   "cell_type": "markdown",
   "metadata": {},
   "source": [
    "<br> Now let's plot some graphs: <br> <br>"
   ]
  },
  {
   "cell_type": "code",
   "execution_count": null,
   "metadata": {},
   "outputs": [],
   "source": [
    "plot(sin(x), (x, -10, 10))"
   ]
  },
  {
   "cell_type": "code",
   "execution_count": null,
   "metadata": {
    "scrolled": false
   },
   "outputs": [],
   "source": [
    "c = circle((0,0), 1, rgbcolor=(0,0,0))\n",
    "show(c, axes=False)"
   ]
  },
  {
   "cell_type": "code",
   "execution_count": null,
   "metadata": {},
   "outputs": [],
   "source": [
    "parametric_plot((x^3,x^2),(x,0,2*pi))"
   ]
  },
  {
   "cell_type": "code",
   "execution_count": null,
   "metadata": {},
   "outputs": [],
   "source": [
    "L = [[-1+cos(pi*i/100)*(1+cos(pi*i/100)), 2*sin(pi*i/100)*(1-cos(pi*i/100))] for i in range(200)]\n",
    "p = polygon(L, rgbcolor=(1/8,3/4,1/2))\n",
    "show(p)"
   ]
  },
  {
   "cell_type": "code",
   "execution_count": null,
   "metadata": {
    "scrolled": true
   },
   "outputs": [],
   "source": [
    "m = random_matrix(RDF,500)\n",
    "e = m.eigenvalues() \n",
    "w = [(i, abs(e[i])) for i in range(len(e))]\n",
    "points(w, rgbcolor=(1,0.6,0))"
   ]
  },
  {
   "cell_type": "code",
   "execution_count": null,
   "metadata": {
    "scrolled": true
   },
   "outputs": [],
   "source": [
    "complex_plot(gamma(x), (-10, 10), (-10, 10))"
   ]
  },
  {
   "cell_type": "code",
   "execution_count": null,
   "metadata": {},
   "outputs": [],
   "source": [
    "y, z = var('y, z')\n",
    "plot_vector_field((sin(x), cos(x)), (x, -5, 5), (y, -5, 5))"
   ]
  },
  {
   "cell_type": "code",
   "execution_count": null,
   "metadata": {
    "scrolled": true
   },
   "outputs": [],
   "source": [
    "polar_plot(x, (x, 0, 2*pi))"
   ]
  },
  {
   "cell_type": "code",
   "execution_count": null,
   "metadata": {
    "scrolled": true
   },
   "outputs": [],
   "source": [
    "plot3d(sin(x)*cos(y), (x, -10, 10), (y, -10, 10), color=\"red\", opacity=0.8)"
   ]
  },
  {
   "cell_type": "code",
   "execution_count": null,
   "metadata": {
    "scrolled": true
   },
   "outputs": [],
   "source": [
    "plot3d(sin(x)*cos(y), (x, -10, 10), (y, -10, 10), adaptive=True, color=rainbow(60, 'rgbtuple'), max_bend=.1, max_depth=15)"
   ]
  },
  {
   "cell_type": "code",
   "execution_count": null,
   "metadata": {
    "scrolled": true
   },
   "outputs": [],
   "source": [
    "u, v = var('u,v')\n",
    "parametric_plot3d((cos(u), sin(u)+cos(v), sin(v)), (u,0,2*pi), (v,-pi,pi))"
   ]
  },
  {
   "cell_type": "code",
   "execution_count": null,
   "metadata": {
    "scrolled": true
   },
   "outputs": [],
   "source": [
    "c = (cos(u), sin(u))\n",
    "revolution_plot3d(c, (u,0,2*pi), axis=(1,1), show_curve=True, color=\"yellow\", opacity=0.9)"
   ]
  },
  {
   "cell_type": "code",
   "execution_count": null,
   "metadata": {
    "scrolled": true
   },
   "outputs": [],
   "source": [
    "plot_vector_field3d((x*cos(z),-y*cos(z),sin(z)), (x,0,pi), (y,0,pi), (z,0,pi), axes=True)"
   ]
  },
  {
   "cell_type": "code",
   "execution_count": null,
   "metadata": {
    "scrolled": false
   },
   "outputs": [],
   "source": [
    "implicit_plot3d(x^2+y^2+z^2==9, (x,-3,3), (y,-3,3), (z,-3,3))"
   ]
  },
  {
   "cell_type": "markdown",
   "metadata": {},
   "source": [
    "<br> <br> It's ray-tracing time! <br> <br>"
   ]
  },
  {
   "cell_type": "code",
   "execution_count": null,
   "metadata": {},
   "outputs": [],
   "source": [
    "f = lambda t: (t,t^2,t^3)\n",
    "t = Tachyon(camera_center=(5,0,4))\n",
    "t.texture('t')\n",
    "t.light((-20,-20,40), 0.2, (1,1,1))\n",
    "t.parametric_plot(f,-5,5,'t',min_depth=6)\n",
    "t.show()"
   ]
  },
  {
   "cell_type": "code",
   "execution_count": null,
   "metadata": {
    "scrolled": true
   },
   "outputs": [],
   "source": [
    "R2 = Manifold(2, 'R^2', structure='topological')\n",
    "c_cart.<x,y> = R2.chart() \n",
    "c_cart.plot() "
   ]
  },
  {
   "cell_type": "code",
   "execution_count": null,
   "metadata": {},
   "outputs": [],
   "source": [
    "U = R2.open_subset('U', coord_def={c_cart: (y!=0, x<0)})\n",
    "c_pol.<r,ph> = U.chart(r'r:(0,+oo) ph:(0,2*pi):\\phi')\n",
    "pol_to_cart = c_pol.transition_map(c_cart, [r*cos(ph), r*sin(ph)])\n",
    "c_pol.plot(c_cart)"
   ]
  }
 ],
 "metadata": {
  "kernelspec": {
   "display_name": "SageMath 9.3",
   "language": "sage",
   "name": "sagemath"
  },
  "language_info": {
   "codemirror_mode": {
    "name": "ipython",
    "version": 3
   },
   "file_extension": ".py",
   "mimetype": "text/x-python",
   "name": "python",
   "nbconvert_exporter": "python",
   "pygments_lexer": "ipython3",
   "version": "3.7.10"
  }
 },
 "nbformat": 4,
 "nbformat_minor": 4
}
