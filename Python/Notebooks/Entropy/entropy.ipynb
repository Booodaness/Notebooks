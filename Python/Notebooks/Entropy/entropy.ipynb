{
 "cells": [
  {
   "cell_type": "code",
   "execution_count": 77,
   "metadata": {},
   "outputs": [],
   "source": [
    "from matplotlib import pyplot as plt\n",
    "import numpy as np"
   ]
  },
  {
   "cell_type": "code",
   "execution_count": 78,
   "metadata": {},
   "outputs": [
    {
     "data": {
      "image/png": "[encoded data removed]",
      "text/plain": [
       "<Figure size 432x288 with 1 Axes>"
      ]
     },
     "metadata": {
      "needs_background": "light"
     },
     "output_type": "display_data"
    },
    {
     "data": {
      "text/plain": [
       "<Figure size 360x360 with 0 Axes>"
      ]
     },
     "metadata": {},
     "output_type": "display_data"
    }
   ],
   "source": [
    "P = []\n",
    "\n",
    "\n",
    "def populate():\n",
    "    global P\n",
    "    if P == []:\n",
    "        P = np.random.rand(np.random.randint(1, 5), 1)\n",
    "\n",
    "\n",
    "def shannon_entropy(P):\n",
    "    if np.sum(P) != 1:\n",
    "        P = np.divide(P, np.sum(P))\n",
    "\n",
    "    sum = 0\n",
    "    count = 0\n",
    "    x = np.arange(len(P))\n",
    "    entropy = np.average(- np.log2(P))\n",
    "\n",
    "    plt.plot(x, P, 'o')\n",
    "    plt.figtext(0.5, 0.01, '$S=$'+str(entropy))\n",
    "    plt.figure(figsize=(5, 5))\n",
    "    plt.show()\n",
    "\n",
    "\n",
    "populate()\n",
    "shannon_entropy(P)"
   ]
  }
 ],
 "metadata": {
  "kernelspec": {
   "display_name": "Python 3.10.0 64-bit",
   "language": "python",
   "name": "python3"
  },
  "language_info": {
   "codemirror_mode": {
    "name": "ipython",
    "version": 3
   },
   "file_extension": ".py",
   "mimetype": "text/x-python",
   "name": "python",
   "nbconvert_exporter": "python",
   "pygments_lexer": "ipython3",
   "version": "3.10.0"
  },
  "orig_nbformat": 4,
  "vscode": {
   "interpreter": {
    "hash": "203fce569bea649c3967ca64993825d22f58bdef915801d233f2e25a95b4d31e"
   }
  }
 },
 "nbformat": 4,
 "nbformat_minor": 2
}
